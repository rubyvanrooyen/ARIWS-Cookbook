{
  "nbformat": 4,
  "nbformat_minor": 0,
  "metadata": {
    "colab": {
      "name": "ARIWS_timedomain_tutorial_wget.ipynb",
      "provenance": [],
      "collapsed_sections": [],
      "include_colab_link": true
    },
    "kernelspec": {
      "display_name": "Python 3",
      "name": "python3"
    }
  },
  "cells": [
    {
      "cell_type": "markdown",
      "metadata": {
        "id": "view-in-github",
        "colab_type": "text"
      },
      "source": [
        "<a href=\"https://colab.research.google.com/github/marisageyer/ARIWS-Cookbook/blob/main/4-Beamformer/ARIWS_timedomain_tutorial_wget.ipynb\" target=\"_parent\"><img src=\"https://colab.research.google.com/assets/colab-badge.svg\" alt=\"Open In Colab\"/></a>"
      ]
    },
    {
      "cell_type": "markdown",
      "metadata": {
        "id": "6ty5BdvzaYtH"
      },
      "source": [
        "#&#128368; $\\quad$  **ARIWS Time-domain tutorial**\n",
        "### June/July 2021 by  Marisa Geyer\n",
        "    \n",
        "-------\n",
        "\n",
        "\n",
        "\n",
        "\n",
        "\n",
        "\n"
      ]
    },
    {
      "cell_type": "markdown",
      "metadata": {
        "id": "VWmUjicY6O7-"
      },
      "source": [
        "# &star; &star; &#128269; $\\quad$Data detective work $\\quad$&star; &star; &star;\n",
        "\n",
        "It is Thursday afternoon and unanalysed MeerKAT data from a distant source has landed on your desk. \n",
        "\n",
        "\n",
        "You roll up your sleeves.\n",
        "\n",
        "It is time to dig in and find what mysteries it is hiding."
      ]
    },
    {
      "cell_type": "markdown",
      "metadata": {
        "id": "AFVxWhak5X9C"
      },
      "source": [
        "## Step 1: Getting your toolkits ready\n",
        "Luckily this is not your first day on job. As a seasoned astronomer, you already suspect which tools will be most useful to you. You compile a list of software to load in, and press GO!\n",
        "\n",
        "**Action 1:** Load the below cells to install the necessary software tools to use on the newly received data"
      ]
    },
    {
      "cell_type": "code",
      "metadata": {
        "id": "Vd3UHjP3aanW"
      },
      "source": [
        "# from https://pypi.org/project/condacolab/\n",
        "!pip install -q condacolab\n",
        "import condacolab\n",
        "condacolab.install()"
      ],
      "execution_count": null,
      "outputs": []
    },
    {
      "cell_type": "markdown",
      "metadata": {
        "id": "xtgrloWDauhY"
      },
      "source": [
        "**Note:** The next step of installing psrchive can take a little while **(~3 to 5min)** - you might even be able to make that cup of tea you've been wanting. Just remember to first start running the below cell *before* you put on the kettle! &#9749;"
      ]
    },
    {
      "cell_type": "code",
      "metadata": {
        "id": "0BhwOBDG3a3i"
      },
      "source": [
        "%%timeit\n",
        "import condacolab \n",
        "!conda install psrchive"
      ],
      "execution_count": null,
      "outputs": []
    },
    {
      "cell_type": "markdown",
      "metadata": {
        "id": "iGmLw34TNBDk"
      },
      "source": [
        "**Action 2:** Import more python libraries by runnning the cell below"
      ]
    },
    {
      "cell_type": "code",
      "metadata": {
        "id": "RDETMTHZa72H"
      },
      "source": [
        "import os\n",
        "import sys\n",
        "import glob\n",
        "import random\n",
        "import subprocess\n",
        "import pandas as pd\n",
        "import numpy as np\n",
        "import seaborn as sns\n",
        "from datetime import date\n",
        "sns.set_context('talk')\n",
        "import psrchive\n",
        "\n",
        "import numpy as np\n",
        "import matplotlib.pyplot as plt\n",
        "import matplotlib.ticker as ticker\n",
        "\n",
        "import matplotlib.animation as animation\n",
        "from matplotlib import rc\n",
        "rc('animation', html='jshtml')\n",
        "\n",
        "from IPython.core.display import display, HTML\n",
        "display(HTML(\"<style>.container { width:80% !important; }</style>\"))\n",
        "\n",
        "plt.rcParams['figure.figsize'] = (8.0, 8.0)\n",
        "## The next step randomly chooses a color map from this short list. \n",
        "## So the plots could be a different color everytime you rerun the notebook. \n",
        "## Feel free to add your own favourite color map here!\n",
        "my_cmap = random.choice(['viridis', 'magma','gist_heat', 'seismic']) \n",
        "print(f'Colormap chosen is: {my_cmap:s}')\n"
      ],
      "execution_count": null,
      "outputs": []
    },
    {
      "cell_type": "markdown",
      "metadata": {
        "id": "0mOD2ZuSBPlr"
      },
      "source": [
        "**Action 3:** And lastly add some smalle additional tools from GitHub"
      ]
    },
    {
      "cell_type": "code",
      "metadata": {
        "id": "cpshDYTdAxlV"
      },
      "source": [
        "%%capture\n",
        "!rm -rf ARIWS_tools\n",
        "!git clone https://github.com/marisageyer/ARIWS_tools/\n",
        "tools_dir = '/content/ARIWS_tools/scripts/'\n",
        "sys.path.insert(0, os.path.abspath(tools_dir))\n",
        "from tools import *"
      ],
      "execution_count": null,
      "outputs": []
    },
    {
      "cell_type": "markdown",
      "metadata": {
        "id": "7y0HPQIj_1By"
      },
      "source": [
        "## Step 2: Download the data\n",
        "\n",
        "The Astronomer on duty for the week, has copied the unanalysed data to an FTP server for you.\n",
        "\n",
        "\n",
        "**Action 4:** To access the valuable data, you \n",
        "\n",
        "1) create a Colab directory \"MeerKAT_data\" \n",
        "\n",
        "2) run *wget* to download the data from the server\n",
        "\n",
        "3) point the CoLab notebook to the data pathway\n",
        "\n",
        "4) read in it using psrchive (Finally!)\n",
        "\n",
        "\n",
        "as in these cells below\n"
      ]
    },
    {
      "cell_type": "code",
      "metadata": {
        "id": "Xa4wb6gFShCP"
      },
      "source": [
        "!mkdir -p /content/MeerKAT_data"
      ],
      "execution_count": null,
      "outputs": []
    },
    {
      "cell_type": "code",
      "metadata": {
        "id": "IPL3tllkRWqw"
      },
      "source": [
        "!wget ftp://elwood.ru.ac.za/pub/mgeyer/ARIWS/meerkat1.ar -P /content/MeerKAT_data"
      ],
      "execution_count": null,
      "outputs": []
    },
    {
      "cell_type": "markdown",
      "metadata": {
        "id": "7QwtprfEItRW"
      },
      "source": [
        "Now point your CoLab notebook to the data's CoLab pathway."
      ]
    },
    {
      "cell_type": "code",
      "metadata": {
        "id": "30WuYBzJEs0A"
      },
      "source": [
        "mydata_dir = '/content/MeerKAT_data'\n",
        "datafile = 'meerkat1.ar' ## This is the first mystery data you have obtained!\n",
        "\n",
        "path_to_data = os.path.join(mydata_dir, datafile)\n",
        "print(path_to_data)"
      ],
      "execution_count": null,
      "outputs": []
    },
    {
      "cell_type": "markdown",
      "metadata": {
        "id": "nm1Sn3zQOn9_"
      },
      "source": [
        "## Step 2b: and read it in!"
      ]
    },
    {
      "cell_type": "markdown",
      "metadata": {
        "id": "NdawCb0jN7Xo"
      },
      "source": [
        "&star; Now you can and read it in using psrchive &star;"
      ]
    },
    {
      "cell_type": "code",
      "metadata": {
        "id": "t1a3S4zcFFa8"
      },
      "source": [
        "data_object = psrchive.Archive_load(path_to_data)\n",
        "data_object.remove_baseline() "
      ],
      "execution_count": null,
      "outputs": []
    },
    {
      "cell_type": "markdown",
      "metadata": {
        "id": "1AgTZR9HFg4c"
      },
      "source": [
        "### &#9758; Note! If you make mistakes down the line with your detective work, \n",
        "### then you can come back to **Step 2b** to load the data freshly again. "
      ]
    },
    {
      "cell_type": "markdown",
      "metadata": {
        "id": "GtbHfwduFjT3"
      },
      "source": [
        "## Step 3: Data dimensions\n",
        "\n",
        "To get a better feel for the data you have, you make notes of the characteristics stored in the **data header**.\n",
        "\n",
        "A data header contains information about the recorded data, but not the data itself.\n",
        "\n",
        "**Action 5**: print some of the header information\n",
        "\n",
        "Notice how the *data_object* which you created above is used to access the header information."
      ]
    },
    {
      "cell_type": "code",
      "metadata": {
        "id": "TJ2_w0-WFh1N"
      },
      "source": [
        "print(f'The data was captured on {data_object.start_time()} with {data_object.get_telescope()}\\n')\n",
        "\n",
        "obs_duration = data_object.integration_length()\n",
        "num_chan = data_object.get_nchan()\n",
        "num_subint = data_object.get_nsubint()\n",
        "num_bins = data_object.get_nbin()\n",
        "\n",
        "print(f'And has the following characteristics:\\n')\n",
        "print(f'Observation duration of \\t\\t\\t {obs_duration:.2f} seconds')\n",
        "print(f'Number of frequency channels\\t\\t\\t {num_chan}')\n",
        "print(f'Number of subintegrations (time blocks)\\t\\t {num_subint}')\n",
        "print(f'Each subintegration (time block) is made up of   {num_bins} data bins')"
      ],
      "execution_count": null,
      "outputs": []
    },
    {
      "cell_type": "markdown",
      "metadata": {
        "id": "qUKV0umnHoW4"
      },
      "source": [
        "**Q1:** Using the above information how much **observing time (seconds)** is associated with each subintegration (or time block)?"
      ]
    },
    {
      "cell_type": "code",
      "metadata": {
        "id": "3VAwsQzAHpXT"
      },
      "source": [
        "## time_per_subint = ## add your computation here. \n",
        "print(f'{time_per_subint} seconds')"
      ],
      "execution_count": null,
      "outputs": []
    },
    {
      "cell_type": "markdown",
      "metadata": {
        "id": "EDTiaT-3H3An"
      },
      "source": [
        "## Step 4: The observing band\n",
        "These days MeerKAT boasts two operational receivers on every antenna, each with their own observing frequencies. \n",
        "\n",
        "Better check, which observing band was used for the observation you are analysing. \n",
        "\n",
        "**Action 6:** You decide the quickest way is to see what frequencies (in MHz) are associated data you have loaded, and find"
      ]
    },
    {
      "cell_type": "code",
      "metadata": {
        "id": "37l8r6-WH8qx"
      },
      "source": [
        "freqs = data_object.get_frequencies()\n",
        "print(f'{freqs[0]:.2f} to {freqs[-1]:.2f} in MHz')"
      ],
      "execution_count": null,
      "outputs": []
    },
    {
      "cell_type": "markdown",
      "metadata": {
        "id": "QBYVzqS2IjGr"
      },
      "source": [
        "**Q2**: Which observing band is this? U-band or L-band?"
      ]
    },
    {
      "cell_type": "code",
      "metadata": {
        "id": "sV2Zkv6yIoHl"
      },
      "source": [
        "## Add your answer here"
      ],
      "execution_count": null,
      "outputs": []
    },
    {
      "cell_type": "markdown",
      "metadata": {
        "id": "5DQwxiqcIoi8"
      },
      "source": [
        "## Step 5: A first plot\n",
        "\n",
        "Now that you know the dimensions of your data, you decide it's best to have a visual look at it.\n",
        "\n",
        "If you add all the data in time - the signal will be the brightest. \n",
        "\n",
        "*psrchive* has a list of \"scrunch\" commands to add the data_object in different dimensions:\n",
        "\n",
        "- fscrunch()\n",
        "- tscrunch()\n",
        "- bscrunch()\n",
        "\n",
        "**Q3**: Which *psrchive* scrunch command do you think would add (integrate) the data in **time**?"
      ]
    },
    {
      "cell_type": "code",
      "metadata": {
        "id": "kneiY9sPIraw"
      },
      "source": [
        "## Add your guess here"
      ],
      "execution_count": null,
      "outputs": []
    },
    {
      "cell_type": "markdown",
      "metadata": {
        "id": "vyMJ4c6qXcDT"
      },
      "source": [
        "You can check if you have used the correct scrunch command, by double checking that the number of subintegrations (time blocks) after you have applied it is **equal to one**. \n",
        "\n",
        "**If not**, you've probably used the wrong scrunch command, and it's best to load the data newly by running from Step 2b!\n"
      ]
    },
    {
      "cell_type": "code",
      "metadata": {
        "id": "74uzQ6_JIzy_"
      },
      "source": [
        "data_object. ## add your scrunching command here to add the data in TIME. The command should end with open brackets, just like the commands in Step 3.\n",
        "\n",
        "## You can check if you have used the correct scrunch command, by double checking that the subintegration (time blocks) is now equal to one. \n",
        "## If not! You've probably used the wrong scrunch command, and it's best to load the data newly by running from Step 2!\n",
        "\n",
        "print(f'Your data now has {data_object.get_nsubint():d} subintegration (time blocks) with {data_object.get_nbin():d} data bins')\n",
        "\n",
        "data = data_object.get_data() ## This command retrieves the data as a numpy array from the data_object (As you've seen the data_object contains more than just the data itself, e.g. the header information in Step 3)\n",
        "print(np.shape(data))\n",
        "data = data.reshape(len(freqs),data_object.get_nbin()) ## This gets rid of those extra dimensions in the above shape that only has one column\n",
        "print(np.shape(data)) ## Now the data is a two-dimensional array with frequency channels, and time bins (a single time block from adding all the data, made up of 1024 data points)\n",
        "\n",
        "## Let's plot the data\n",
        "plt.imshow(data, aspect='auto', cmap=my_cmap, origin='lower')\n",
        "labely = plt.ylabel(\"Frequency channels\")\n",
        "labelx = plt.xlabel(\"Time bins\")"
      ],
      "execution_count": null,
      "outputs": []
    },
    {
      "cell_type": "markdown",
      "metadata": {
        "id": "2EwXG-ozYCpx"
      },
      "source": [
        "Double check the number of time blocks,"
      ]
    },
    {
      "cell_type": "code",
      "metadata": {
        "id": "3IwHBgtoQozR"
      },
      "source": [
        "print(f'Your data now has {data_object.get_nsubint():d} subintegration (time blocks) with {data_object.get_nbin():d} data bins')"
      ],
      "execution_count": null,
      "outputs": []
    },
    {
      "cell_type": "markdown",
      "metadata": {
        "id": "FUjNl7H3MUxK"
      },
      "source": [
        "**Q4:** Does your data now have only **one** subintegration (time block)? \n",
        "\n",
        "If not start again from Step 2b. "
      ]
    },
    {
      "cell_type": "markdown",
      "metadata": {
        "id": "p59sY_poMuhY"
      },
      "source": [
        "## Step 6: Who goes there?\n",
        "\n",
        "You're not so sure about this data! That looks a bit suspicious. \n",
        "Maybe even a bit **man made**!\n",
        "\n",
        "Time to zoom in on those scruffy channels and see where exactly they lie. "
      ]
    },
    {
      "cell_type": "markdown",
      "metadata": {
        "id": "c7edcntgJb4a"
      },
      "source": [
        "\n",
        "**Action 8:** Zoom in on the strange channels in the above plot **by picking y-axis limits.** \n",
        "\n",
        "This will help you identify which channels numbers exactly look contaminated. \n",
        "\n"
      ]
    },
    {
      "cell_type": "code",
      "metadata": {
        "id": "HlJOHfoMJSb7"
      },
      "source": [
        "## Pick a window of channel numbers to zoom into\n",
        "zoom_in_lower =  ## with this as the lower limit \n",
        "zoom_in_upper =  ## and this as the upper\n",
        "\n",
        "plt.imshow(data, aspect='auto', cmap=my_cmap, origin='lower')\n",
        "plt.ylim(zoom_in_lower, zoom_in_upper)\n",
        "labely = plt.ylabel(\"Frequency channels\")\n",
        "labelx = plt.xlabel(\"Time bins\")"
      ],
      "execution_count": null,
      "outputs": []
    },
    {
      "cell_type": "markdown",
      "metadata": {
        "id": "0a26UGRMVrrZ"
      },
      "source": [
        "**Q5**: Which channel numbers do you think contain the artificial signals?"
      ]
    },
    {
      "cell_type": "code",
      "metadata": {
        "id": "qz8nbciRVtvv"
      },
      "source": [
        "## add your answer here"
      ],
      "execution_count": null,
      "outputs": []
    },
    {
      "cell_type": "markdown",
      "metadata": {
        "id": "v_RLXASMJm6J"
      },
      "source": [
        "## Step 7: removing Radio Frequency Interference (RFI)\n",
        "\n",
        "Ok, now that you know which are the contaminated channels, it is time to remove them. \n",
        "\n",
        "**Action 9:** Choose the range of frequency channels that you want to delete (set to zero) because you think they contain Radio Frequency Interference (RFI) and not astronomical signals\n"
      ]
    },
    {
      "cell_type": "code",
      "metadata": {
        "id": "wbYgdxy-JoHX"
      },
      "source": [
        "## Pick the channels to get rid of\n",
        "RFI_channel_start = ## first channel to remove\n",
        "RFI_channel_end = ## and remove up to this channel number\n",
        "\n",
        "## Zero the values in \"data\" from channel_start to channel_end:\n",
        "data[RFI_channel_start:RFI_channel_end,:] = 0"
      ],
      "execution_count": null,
      "outputs": []
    },
    {
      "cell_type": "markdown",
      "metadata": {
        "id": "rhze8AmIdp4P"
      },
      "source": [
        "Plot the signal after the RFI channels have been removed (set to zero)"
      ]
    },
    {
      "cell_type": "code",
      "metadata": {
        "id": "jX44lUC6dHo6"
      },
      "source": [
        "## Plot the signal after having zeroed the RFI frequency channels\n",
        "fig, (ax1, ax2) = plt.subplots(1,2, figsize=(25,7))\n",
        "ax1.set_title(\"Datablock after having removed frequency channels %d to %d\" %(RFI_channel_start, RFI_channel_end))\n",
        "ax1.imshow(data, aspect='auto', cmap=my_cmap, origin='lower')\n",
        "labely = ax1.set_ylabel(\"Frequency channel number\")\n",
        "labelx = ax1.set_xlabel(\"Time bins\")\n",
        "\n",
        "ax2.set_title(\"Zoom in: datablock after having removed frequency channels %d to %d\" %(RFI_channel_start, RFI_channel_end))\n",
        "ax2.imshow(data, aspect='auto', cmap=my_cmap, origin='lower')\n",
        "ax2.set_ylim(zoom_in_lower, zoom_in_upper)\n",
        "labely = ax2.set_ylabel(\"Frequency channel number\")\n",
        "labelx = ax2.set_xlabel(\"Time bins\")"
      ],
      "execution_count": null,
      "outputs": []
    },
    {
      "cell_type": "markdown",
      "metadata": {
        "id": "Ym_MGVRDJ6cj"
      },
      "source": [
        "Now some other signals have popped out! Can you believe that was hiding behind the contaminated data. \n",
        "\n",
        "Not bad, detective!\n",
        "\n",
        "If you see more RFI you can remove even more frequency channels to get a further increase in brightness of the astrophysical signal."
      ]
    },
    {
      "cell_type": "code",
      "metadata": {
        "id": "qoQsRsiIkrFd"
      },
      "source": [
        "## Zero some more channels containing interference\n",
        "\n",
        "## Pick a window of channel numbers to zoom into to better identify channel numbers you want to remove\n",
        "zoom_in_lower =  ## with this as the lower limit \n",
        "zoom_in_upper =  ## and this as the upper\n",
        "\n",
        "plt.imshow(data, aspect='auto', cmap=my_cmap, origin='lower')\n",
        "plt.ylim(zoom_in_lower, zoom_in_upper)"
      ],
      "execution_count": null,
      "outputs": []
    },
    {
      "cell_type": "code",
      "metadata": {
        "id": "m4Ybnw3ZlBBg"
      },
      "source": [
        "## Now zero another set of channels containing RFI\n",
        "RFI_channel_start2 = ## add the channel number of the start of the affected region here \n",
        "RFI_channel_end2= ## and the channel number of the end of the affected region \n",
        "data[RFI_channel_start2:RFI_channel_end2] = 0\n",
        "## Then rerun the plot in Step 7"
      ],
      "execution_count": null,
      "outputs": []
    },
    {
      "cell_type": "markdown",
      "metadata": {
        "id": "5KCef1vMKCaT"
      },
      "source": [
        "## Step 8: Labelling axes\n",
        "### But why is the signal banded? It looks like it is smeared across frequencies? Something to ponder!\n",
        "\n",
        "Since you are happy that you have removed the interference, you decide to make a first proper plot.\n",
        "\n",
        "With frequency labelling in **MHz** rather than channel numbers.\n",
        "\n",
        "Luckily you've already created 'freqs' (in Step 4) which contains the frequencies in MHz for each channel. \n",
        "\n",
        "**Action 10:** See if you can change the extent of the plot to go from the first frequency channel to the last. \n",
        "\n",
        "For now you'll leave the time bins to go from 0 to 1024 (arbitrary units). "
      ]
    },
    {
      "cell_type": "code",
      "metadata": {
        "id": "NwUj_qz1J6_C"
      },
      "source": [
        "timestart = 0\n",
        "timeend = data_object.get_nbin()\n",
        "\n",
        "lowestfreq = ## fill in the lowest frequency channel in MHz here (using the array 'freqs')\n",
        "highestfreq = ## fill in the highest frequency channel in MHz here (using the array 'freqs')\n",
        "\n",
        "plt.figure(figsize=(8,16))\n",
        "plt.imshow(data, extent=(timestart,timeend,lowestfreq, highestfreq), aspect='auto', cmap=my_cmap, origin='lower')\n",
        "plt.grid(color='w', ls='dashed') ## adding white grid lines to the plot\n",
        "plt.ylabel(\"Frequency (MHz)\")\n",
        "plt.xlabel(\"Time bins (arbitrary unit)\")"
      ],
      "execution_count": null,
      "outputs": []
    },
    {
      "cell_type": "markdown",
      "metadata": {
        "id": "6cIJ8TZAKlYW"
      },
      "source": [
        "Looking at a single smeared signal, you see it appears to \n",
        "\n",
        "**arrive at a higher frequency first (time=0), and is then travels to a lower frequency in time ...**\n",
        "\n",
        "this rings a bell!\n",
        "\n",
        "**Action 11:** Again, you zoom in to look more closely at a smaller part of the figure. \n",
        "\n",
        "Let's look only at a 20 MHz range.\n",
        "Picking a lower part of the band (lower frequency values) will show the effect better!"
      ]
    },
    {
      "cell_type": "code",
      "metadata": {
        "id": "xbu0MIZDfJt3"
      },
      "source": [
        "np.argwhere(freqs < 560)[-1][0]"
      ],
      "execution_count": null,
      "outputs": []
    },
    {
      "cell_type": "code",
      "metadata": {
        "id": "iXGgi0mtKmqf"
      },
      "source": [
        "## Pick a 20 MHz frequency range to zoom into, by picking a lower and upper limit\n",
        "## Picking a lower part of the band (lower frequency values) will show the effect better!\n",
        "ylim_low_MHz = 560 ## in MHz\n",
        "ylim_high_MHz = 580 ## in MHz\n",
        "\n",
        "plt.figure(figsize=(8,8))\n",
        "plt.imshow(data, extent=(0,timeend,freqs[0], freqs[-1]), aspect='auto', cmap=my_cmap, origin='lower')\n",
        "plt.ylabel(\"Frequency (MHz)\")\n",
        "plt.xlabel(\"Time (arbitrary unit)\")\n",
        "plt.ylim(ylim_low_MHz,ylim_high_MHz) ## this is where your limit are used"
      ],
      "execution_count": null,
      "outputs": []
    },
    {
      "cell_type": "markdown",
      "metadata": {
        "id": "9oau17huLQPk"
      },
      "source": [
        "## Step 9: Of course it's a ......\n",
        "\n",
        "\n",
        "\n",
        "**Q6:** What is causing the smear across frequency?\n",
        "\n",
        "**Q7:** And why is the signal wrapping?\n",
        "\n",
        "**Q8:** What astrophysical object has MeerKAT been looking at?"
      ]
    },
    {
      "cell_type": "code",
      "metadata": {
        "id": "--WoswboWHPY"
      },
      "source": [
        "## add your answers here\n",
        "## Q6:\n",
        "## Q7:\n",
        "## Q8:"
      ],
      "execution_count": null,
      "outputs": []
    },
    {
      "cell_type": "markdown",
      "metadata": {
        "id": "Nv2l2fNaWg2H"
      },
      "source": [
        "## &#9742; Ring ring ...\n",
        "\n",
        "#### You decide to ring your fellow astronomer, Marisa,  with the news. She'll been keen to hear about this data!\n",
        "\n",
        "#### And maybe will have some ideas about where to go next.  "
      ]
    },
    {
      "cell_type": "code",
      "metadata": {
        "id": "CUd1Vn_Dufs8"
      },
      "source": [
        "## Talk to Marisa ##"
      ],
      "execution_count": null,
      "outputs": []
    },
    {
      "cell_type": "markdown",
      "metadata": {
        "id": "SJi8LnQno5pB"
      },
      "source": [
        "**Action 12:** Following her advice let's have a look at time resolution of the data you are looking at. \n",
        "\n",
        "This will tell you how much time is associated with each time bin of the data.\n",
        "\n",
        "This is another piece of information that lives in the **data header** of data_object."
      ]
    },
    {
      "cell_type": "code",
      "metadata": {
        "id": "yxP7SmN4L0tW"
      },
      "source": [
        "time_resolution = time_per_bin(data_object)\n",
        "\n",
        "print(f'Each bin within the time block (which has {data_object.get_nbin():d} bins) represents {time_resolution:.8f} seconds')\n",
        "print(f'Wow, the telescope is performing!')\n",
        "print(f'Capturing data every {time_resolution:.8f} seconds or {time_resolution*1e6:.2f} microseconds')"
      ],
      "execution_count": null,
      "outputs": []
    },
    {
      "cell_type": "markdown",
      "metadata": {
        "id": "DMedjUOOMp_B"
      },
      "source": [
        "## Step 10: Calculating the pulse period\n",
        "You are really zoning in on this mystery now! \n",
        "\n",
        "Once you know the pulsar period you are well on your way to figuring out which source this is!\n",
        "\n",
        "**Action 13:** Compute the period of this periodic source, based on your knowledge of the time associated with each time bin (the time resolution) and the number of time data bins. \n"
      ]
    },
    {
      "cell_type": "code",
      "metadata": {
        "id": "0AW7x4CjMtbq"
      },
      "source": [
        "period = ## compute the pulse period here\n",
        "ms_period = ## transform the pulse period in seconds to miliseconds\n",
        "\n",
        "print(f'The pulsar has a rotational period of {period:.5f} seconds')\n",
        "print(f'or {ms_period:.3f} miliseconds')"
      ],
      "execution_count": null,
      "outputs": []
    },
    {
      "cell_type": "markdown",
      "metadata": {
        "id": "FLh9bSmTgdt_"
      },
      "source": [
        "##Step 10b: Labelling axes again.\n",
        "### Alright now you can also redo the plot of Step 8 and change the x-axis to **pulse period in seconds**, or to a single pulse rotation from pulse phase 0 to 1"
      ]
    },
    {
      "cell_type": "code",
      "metadata": {
        "id": "IR8z3D8TgcfP"
      },
      "source": [
        "timestart = 0\n",
        "time_stop = period \n",
        "\n",
        "fig, ax = plt.subplots(figsize=(8,16))\n",
        "ax.imshow(data, extent=(timestart,time_stop,lowestfreq, highestfreq), aspect='auto', cmap=my_cmap, origin='lower')\n",
        "ax.grid(color='w', ls='dashed') ## adding white grid lines to the plot\n",
        "ax.set_ylabel(\"Frequency (MHz)\")\n",
        "ax.set_xlabel(\"Time (seconds)\")\n",
        "ax1 = ax.twiny()\n",
        "ax1.set_xlabel(\"Pulse rotation (phase)\")"
      ],
      "execution_count": null,
      "outputs": []
    },
    {
      "cell_type": "markdown",
      "metadata": {
        "id": "ajYXXqNWqL9P"
      },
      "source": [
        "## Step 11: Look up the source \n",
        "\n",
        "A list of known pulsars can be found in the *Australia Telescope National Facility's* (ATNF) pulsar catalogue here:\n",
        "\n",
        "https://www.atnf.csiro.au/research/pulsar/psrcat/\n",
        "\n",
        "To find a source with a pulse period (P0) close to the computed pulse period, you can use the *condition* and filter for \n",
        "\n",
        "\n",
        "\"p0 < p_large p1 & p0 > p_small\"\n",
        "\n",
        "\n",
        "such that the pulse period of the pulsar in your data (p0) lies between p_small and p_large\n",
        "\n",
        "If you struggle to use the website you can find a list of pulsars with pulse periods\n",
        "+ larger than 0.02 seconds \n",
        "+ and smaller than 0.025 seconds \n",
        "\n",
        "[right here](https://www.atnf.csiro.au/research/pulsar/psrcat/proc_form.php?version=1.64&Name=Name&P0=P0&startUserDefined=true&c1_val=&c2_val=&c3_val=&c4_val=&sort_attr=P0&sort_order=asc&condition=p0+%3E+0.02+%26%26+p0+%3C+0.025&pulsar_names=&ephemeris=short&coords_unit=raj%2Fdecj&radius=&coords_1=&coords_2=&style=Long+with+last+digit+error&no_value=*&fsize=3&x_axis=&x_scale=linear&y_axis=&y_scale=linear&state=query&table_bottom.x=25&table_bottom.y=19).\n",
        "\n"
      ]
    },
    {
      "cell_type": "markdown",
      "metadata": {
        "id": "UgLfC7DetH_8"
      },
      "source": [
        "**Q9:** which pulsar's data do you think you are looking at?"
      ]
    },
    {
      "cell_type": "code",
      "metadata": {
        "id": "RADWuqlNtlw2"
      },
      "source": [
        "## Q9: answer here"
      ],
      "execution_count": null,
      "outputs": []
    },
    {
      "cell_type": "markdown",
      "metadata": {
        "id": "RDkHZXNlNjaS"
      },
      "source": [
        "## Step 12: Estimate the disperison measure\n",
        "\n",
        "To align the pulsar signal, you know you have to get rid of this smearing effect.\n",
        "\n",
        "For which, paging through your notebook, you have to compute the dispersion measure - which relates the amount of frequency smear for a given time\n",
        "\n",
        "\n",
        "The delay, $\\Delta t$, in seconds, between the arrival times of pulses at frequencies, $\\nu_{lo}$ and $\\nu_{hi}$ is given by\n",
        "\n",
        "\\begin{equation}\n",
        "\\Delta t = 4.149\\times10^3 \\biggl(\\rm{DM}\\biggr) \\biggl[\\frac{1}{\\nu_{lo}^{2}}-\\frac{1}{\\nu_{hi}^{2}}\\biggr]\n",
        "\\end{equation}\n",
        "\n",
        "where $\\nu_{lo}$ and $\\nu_{hi}$ are in MHz, \n",
        "\n",
        "or \n",
        "\n",
        "\\begin{equation}\n",
        "\\rm{DM} = \\frac{\\Delta t}{4.149\\times10^3} \\frac{\\nu_{lo}^{2} \\nu_{hi}^{2}}{\\nu_{hi}^{2}-\\nu_{low}^{2}}\n",
        "\\end{equation}\n",
        "\n",
        "\n",
        "So if you can estimate the characteristic smearing, or dispersion measure (DM), then you can properly align the pulsar signal.\n",
        "\n",
        " "
      ]
    },
    {
      "cell_type": "markdown",
      "metadata": {
        "id": "LHyoy65bOXHQ"
      },
      "source": [
        "**Action 13:** Looking back at your zoomed-in figure of the frequency smear (Action 11), estimate a high frequency where the signal starts (at t=0) and a low frequency value where the signal ends (at t=pulse period), while using the pulse period as the delay between these frequencies."
      ]
    },
    {
      "cell_type": "markdown",
      "metadata": {
        "id": "tPzbetD9i7zc"
      },
      "source": [
        "The next cell re-plots your plot in Action 11, so you don't have to scroll up, \n",
        "\n",
        "with an added grid lines to improve your ability to estimate values from the frequency axis"
      ]
    },
    {
      "cell_type": "code",
      "metadata": {
        "id": "D-lvm5wci46z"
      },
      "source": [
        "fig,ax=plt.subplots(figsize=(8,8))\n",
        "ax.imshow(data, extent=(0,period,freqs[0], freqs[-1]), aspect='auto', cmap=my_cmap, origin='lower')\n",
        "ax.set_ylabel(\"Frequency (MHz)\")\n",
        "ax.set_xlabel(\"Time (seconds)\")\n",
        "ax.set_ylim(ylim_low_MHz,ylim_high_MHz) ## this is the plotting limits you used before\n",
        "ax.yaxis.set_minor_locator(ticker.MultipleLocator(1.0))\n",
        "ax.grid(which='minor', ls='dashed', alpha=0.8,color='w')"
      ],
      "execution_count": null,
      "outputs": []
    },
    {
      "cell_type": "code",
      "metadata": {
        "id": "MstOQAhTOBSs"
      },
      "source": [
        "## Pick the frequency range of a single smeared siganl \n",
        "##freq_hi = ## pick the start of a smeared signal here (in MHz)\n",
        "##freq_low = ## and the end of the smeared signal here (in MHz)\n",
        "\n",
        "freq_hi = 579\n",
        "freq_low = 568\n",
        "\n",
        "DM_const = 4149  ## This is known as the dispersion measure constant and has the value 4149 MHz^2 pc^−1 cm^3 s, as you can see in the above calculation\n",
        "DM = period/DM_const*(freq_hi**2*freq_low**2)/(freq_hi**2 - freq_low**2)\n",
        "print(f'DM={DM:.2f}')"
      ],
      "execution_count": null,
      "outputs": []
    },
    {
      "cell_type": "markdown",
      "metadata": {
        "id": "KtyyWIkDNjrH"
      },
      "source": [
        "## Step 13: Correct the dispersion\n",
        "Now let's correct the dispersion for each channel by using the computed DM value.\n",
        "\n",
        "You bring up an old schematic you have to remind you how the dedispersion process works. "
      ]
    },
    {
      "cell_type": "code",
      "metadata": {
        "id": "AQhIUwT4gVfE"
      },
      "source": [
        "img='/content/ARIWS_tools/scripts/dedispersion.png'\n",
        "from IPython.core.display import Image, display\n",
        "display(Image(img, width=600, unconfined=True))"
      ],
      "execution_count": null,
      "outputs": []
    },
    {
      "cell_type": "markdown",
      "metadata": {
        "id": "udgGFDqufNZZ"
      },
      "source": [
        "Luckily, you have a function that you've written before which computes the required shift for each frequency channel in seconds. \n",
        "\n",
        "**Action 14:** Since your data is an indexed numpy array here, you just have to write that shift in seconds into a shift of data bins."
      ]
    },
    {
      "cell_type": "code",
      "metadata": {
        "id": "uZO7JZxXO17u"
      },
      "source": [
        "def rotate_array(arr, nbins):\n",
        "    return [arr[(nbins + i) % len(arr)] for i in range(len(arr))]\n",
        "\n",
        "\n",
        "def correct_dispersion(data, freqs,DM, period, printout=True):\n",
        "    print(f'Correcting dispersion using a DM value of {DM:.4f} pc cm$^{-3}$')\n",
        "    print(f'---------------------------------------------------------------')\n",
        "    nchan, nbin = np.shape(data)\n",
        "    nchan, nbin = np.shape(data)\n",
        "    DMcorr_data=np.zeros((nchan,nbin),dtype=float)\n",
        "\n",
        "    center_freq=np.median(freqs)\n",
        "\n",
        "    for chan in range(nchan):\n",
        " \n",
        "        data_chan = data[chan]\n",
        "        freq_chan = freqs[chan]\n",
        "        if printout==True:\n",
        "          print(f'To correct the dispersion of frequency channel {chan:d} ({freq_chan:.2f} MHz), ',end='')\n",
        "        shift_sec = DM_const*DM*(1/freq_chan**2 - 1/center_freq**2)\n",
        "\n",
        "        shift_bins = int() ## add your computation for the shift in bins here. In other words transform the shift in seconds (shift_sec) to a shift in bins. \n",
        "                      ## remember bins should be an integer, so after transforming from seconds to bins use int() \n",
        "        shift_bins_mod = np.mod(shift_bins,1024) \n",
        "        if printout==True:\n",
        "          print(f'we shift the data by {1000*shift_sec:.2f} ms or {shift_bins_mod:d} bins')\n",
        "\n",
        "        # rotate the data by the number of bins\n",
        "        data_shifted=rotate_array(data_chan,shift_bins_mod)\n",
        "\n",
        "        DMcorr_data[chan,:]=data_shifted\n",
        "    \n",
        "    return DMcorr_data"
      ],
      "execution_count": null,
      "outputs": []
    },
    {
      "cell_type": "markdown",
      "metadata": {
        "id": "UyBpmk0kgEUq"
      },
      "source": [
        "**Action 15:** Run the function to correct dispersion using your computed DM value. "
      ]
    },
    {
      "cell_type": "code",
      "metadata": {
        "id": "nsWazyxjPhe3"
      },
      "source": [
        "DMcorr_data=correct_dispersion(data,freqs,DM,period)"
      ],
      "execution_count": null,
      "outputs": []
    },
    {
      "cell_type": "markdown",
      "metadata": {
        "id": "97HWhcyvgQCs"
      },
      "source": [
        "**Action 16:** Let's see how well that worked by plotting the corrected signal."
      ]
    },
    {
      "cell_type": "code",
      "metadata": {
        "id": "MKGVsL6IQeyz"
      },
      "source": [
        "plt.figure(figsize=(8,8))\n",
        "plt.imshow(DMcorr_data, extent=(0,period,freqs[0], freqs[-1]), aspect='auto', cmap=my_cmap, origin='lower')\n",
        "plt.ylabel(\"Frequency (MHz)\")\n",
        "plt.xlabel(\"Time (sec)\")\n",
        "plt.ylim(ylim_low_MHz,ylim_high_MHz) ## you can play around with these plotting limits to zoom in and out\n",
        "plt.grid()"
      ],
      "execution_count": null,
      "outputs": []
    },
    {
      "cell_type": "markdown",
      "metadata": {
        "id": "1muXDGU30Al0"
      },
      "source": [
        "## Step 13b: Fine tune the Dispersion Measure (DM)"
      ]
    },
    {
      "cell_type": "markdown",
      "metadata": {
        "id": "x7lCOKD9s5jc"
      },
      "source": [
        "You know that if you computed the dispersion measure correctly the signal should now align across frequencies, producing **vertical** pulses.\n",
        "\n",
        "**Action 17:** Tinker with the DM value in correct_dispersion() above until you are happy that the pulsar signal is fully de-dispersed!\n",
        "\n",
        "*Hint:* Only make small changes (< 3.0) at a time. The DM value is very sensitive!\n",
        "\n",
        "If a single smeared signal is still arriving **earlier at higher frequencies** than lower ones -- you need to slightly increase the DM value you computed. \n",
        "\n",
        "If a single smeared signal is arriving **earlier at lower frequencies** than higher ones -- you have overestimated the DM, and need to slightly decrease the DM value you computed."
      ]
    },
    {
      "cell_type": "code",
      "metadata": {
        "id": "kK5UNdRRz1hh"
      },
      "source": [
        "DM =  ### use a value slighlty higher or lower than your first estimated DM (from Action 13) to help fine-tune its value\n",
        "DMcorr_data=correct_dispersion(data,freqs,DM,period,printout=False)  ## Setting printout to \"False\" surpresses all the print statements from before for a cleaner screen.\n",
        "\n",
        "fig,ax=plt.subplots(figsize=(10,10))\n",
        "\n",
        "#plot the corrected data\n",
        "ax.imshow(DMcorr_data, extent=(0,period,freqs[0], freqs[-1]), aspect='auto', cmap=my_cmap, origin='lower')\n",
        "ax.set_ylabel(\"Frequency (MHz)\")\n",
        "ax.set_xlabel(\"Time (ms)\")\n",
        "\n",
        "\n",
        "# Add more detailed gridlines to help you see if it is straight!\n",
        "ax.xaxis.set_minor_locator(ticker.MultipleLocator(0.001))\n",
        "ax.yaxis.set_minor_locator(ticker.MultipleLocator(50))\n",
        "ax.grid(which='minor', ls='dashed', alpha=0.8,color='w')\n",
        "ax.grid(which='major', axis='both', linestyle='-')"
      ],
      "execution_count": null,
      "outputs": []
    },
    {
      "cell_type": "markdown",
      "metadata": {
        "id": "wBOv1o6HQRiu"
      },
      "source": [
        "## Step 14: Finally, the added pulse profile!\n",
        "\n",
        "**Action 18**: Adding all the frequency channels after the dispersion is corrected, gives you the integrated stable pulsar profile"
      ]
    },
    {
      "cell_type": "code",
      "metadata": {
        "id": "kNBeKe2um4Xx"
      },
      "source": [
        "np.sum(DMcorr_data, axis=1)"
      ],
      "execution_count": null,
      "outputs": []
    },
    {
      "cell_type": "code",
      "metadata": {
        "id": "IhwUbVcFQCMR"
      },
      "source": [
        "average_profile = np.sum(, axis=0) ### sum the DM corrected array here across frequency (hence axis=0)\n",
        "\n",
        "plt.figure(figsize=(10,5))\n",
        "plt.title(\"Dispersion corrected profile\")\n",
        "plt.plot(np.linspace(0,1,1024), average_profile)\n",
        "plt.show()\n",
        "\n",
        "plt.figure(figsize=(10,5))\n",
        "print(f'\\nGood thing we did the dedispersion, without it the signal would look much worse:\\n')\n",
        "plt.title(\"No dispersion correction\")\n",
        "plt.plot(np.linspace(0,1,1024), np.sum(data, axis=0))\n",
        "xlab=plt.xlabel(\"Pulse rotation (phase)\")"
      ],
      "execution_count": null,
      "outputs": []
    },
    {
      "cell_type": "markdown",
      "metadata": {
        "id": "9AzWqaefzprP"
      },
      "source": [
        "### What an interesting pulse shape - we see two peaks! \n",
        "### This must mean we are seeing both the North pole and South pole of this pulsar.\n",
        "\n",
        "**Q10:** Can you see the pulse shape without dispersion correction?"
      ]
    },
    {
      "cell_type": "markdown",
      "metadata": {
        "id": "ont5IT2uzvfn"
      },
      "source": [
        "## Step 15: Compute the signal to noise (S/N) for this pulsar observation\n",
        "The S/N is the ratio between the *pulse signal* and the *noise level*:\n",
        "+ we can characterise the signal as the peak of the pulse profile\n",
        "+ and the noise level as the standard deviation of the noise floor, or the off-pulse region\n",
        "\n",
        "**Action 19:** Compute the S/N of your averaged pulse profile shape"
      ]
    },
    {
      "cell_type": "code",
      "metadata": {
        "id": "z2oDglHWz_MF"
      },
      "source": [
        "plt.figure(figsize=(8,5))\n",
        "plt.plot(np.linspace(0,1,1024), average_profile)\n",
        "xlab=plt.xlabel(\"Pulse rotation (phase)\")\n",
        "\n",
        "## Pick an off-pulse region which represents the noise floor of the observation and compute its standard deviation\n",
        "off_pulse_phase_start = ## in pulse rotation (phase)\n",
        "off_pulse_phase_end = ## in pulse rotation (phase)\n",
        "\n",
        "off_pulse_start = int(off_pulse_phase_start*1024) ## in bins for indexing\n",
        "off_pulse_end = int(off_pulse_phase_end*1024)\n",
        "\n",
        "noise_std = np.std(average_profile[off_pulse_start:off_pulse_end])\n",
        "\n",
        "## Compute the maximum peak height of the pulsar as a measure of its brightness\n",
        "peak = np.max(average_profile)\n",
        "\n",
        "plt.axhline(y=peak,ls='dotted', color='g', label='peak') ## this shows the peak you have computed\n",
        "plt.axvline(x=off_pulse_phase_start,ls='dotted', color='r') ## these show the off-pulse region you have selected\n",
        "plt.axvline(x=off_pulse_phase_end,ls='dotted', color='r')\n",
        "\n",
        "## Compute the signal-to-noise ratio using these values you have computed\n",
        "snr = \n",
        "print(f'S/N: {snr:.4f}')"
      ],
      "execution_count": null,
      "outputs": []
    },
    {
      "cell_type": "markdown",
      "metadata": {
        "id": "eOGLGLgzQ3is"
      },
      "source": [
        "What an interesting pulse shape - we see two peaks! This must mean we are seeing both the North pole and South pole of this pulsar.\n",
        "\n"
      ]
    },
    {
      "cell_type": "markdown",
      "metadata": {
        "id": "v28DYZ9vwjq6"
      },
      "source": [
        "## Step 16: Summarise \n",
        "\n",
        "Time for this detective to summarise what's been learned from the data so far. \n"
      ]
    },
    {
      "cell_type": "code",
      "metadata": {
        "id": "CpLd8PVvwuga"
      },
      "source": [
        "## Firstly this is data of a pulsar, \n",
        "## At the MeerKAT band\n",
        "val_band =\n",
        "## and you think the source name is\n",
        "val_pulsarname =\n",
        "## It has a pulse period of \n",
        "val_pulseperiod = ms_period ## in ms\n",
        "## The source has a DM value of\n",
        "val_DM =\n",
        "## And a S/N value \n",
        "val_snr = \n",
        "## After an observation of length\n",
        "val_obslength = data_object.integration_length()\n",
        "\n",
        "\n",
        "print(f'Summary for MeerKAT data {val_band} data analysed on {date.today()}: \\n')\n",
        "print(f'Pulsar: \\t PSR {val_pulsarname}\\n')\n",
        "print(f'Pulse period: \\t {val_pulseperiod:.5f} ms \\n')\n",
        "print(f'DM value: \\t {val_DM:.4f} pc cm-3\\n')\n",
        "print(f'S/N value: \\t {val_snr:.2f}\\n')\n",
        "print(f'Obs duration: \\t {val_obslength:.2f} seconds\\n')"
      ],
      "execution_count": null,
      "outputs": []
    },
    {
      "cell_type": "markdown",
      "metadata": {
        "id": "_BSrOg0w3JpY"
      },
      "source": [
        "### Ok, so the averaged high S/N pulse profile is what you obtained after having added the observing time together, as well as all the frequency channels, and correcting for the dispersion.\n",
        "\n",
        "# &#128161; but since pulsars are interesting clocks ... you think it might be worth checking how the pulsar behaves with time"
      ]
    },
    {
      "cell_type": "markdown",
      "metadata": {
        "id": "eaNW-vol3d3j"
      },
      "source": [
        "## Step 17: Let's see this clock tick -- **load in time resolved data**\n",
        "To observe what is happening with the pulse signal you will need to load the data newly, since previously you added the timeblocks together using tscrunch()\n",
        "\n",
        "So back to loading in the original data ...\n"
      ]
    },
    {
      "cell_type": "code",
      "metadata": {
        "id": "bPnckvs9wujC"
      },
      "source": [
        "data_object2 = psrchive.Archive_load(path_to_data)\n",
        "data_object2.remove_baseline()\n",
        "\n",
        "## You rerun some of the commands you used in Step 4, to remind yourself of the data dimensions\n",
        "print(f'And has the following characteristics:')\n",
        "print(f'Number of frequency channels\\t\\t\\t {data_object2.get_nchan()}')\n",
        "print(f'Number of subintegrations (time blocks)\\t\\t {data_object2.get_nsubint()}')\n",
        "print(f'Each subintegration (time block) is made up of \\t {data_object2.get_nbin()} data bins')\n",
        "\n",
        "time_per_subint = data_object2.integration_length()/data_object2.get_nsubint()\n",
        "print(f'Time of each subintegration: \\t\\t\\t {time_per_subint:.2f} seconds')"
      ],
      "execution_count": null,
      "outputs": []
    },
    {
      "cell_type": "markdown",
      "metadata": {
        "id": "02cQHliE5r0u"
      },
      "source": [
        "**Action 20:** Compute how many pulse rotations are contained in every subintegration (using your previously computed pulse period).\n",
        "\n"
      ]
    },
    {
      "cell_type": "code",
      "metadata": {
        "id": "uaopDUixQ2tM"
      },
      "source": [
        "number_pulses_per_subint = \n",
        "print(number_pulses_per_subint)"
      ],
      "execution_count": null,
      "outputs": []
    },
    {
      "cell_type": "markdown",
      "metadata": {
        "id": "WYx-x1T388SV"
      },
      "source": [
        "This time you will add all the frequency channels together from the start, and just study how the pulsar changes with time\n",
        "\n",
        "You do so with the **fscrunch()** command"
      ]
    },
    {
      "cell_type": "code",
      "metadata": {
        "id": "cMR9l1DhRUjH"
      },
      "source": [
        "data_object2.dedisperse() ## This corrects for dedispersion based on header information (so an effective alternative to computing it yourself!)\n",
        "data_object2.fscrunch()\n",
        "data_time = data_object2.get_data().reshape(data_object2.get_nsubint(),data_object2.get_nbin())\n",
        "print(np.shape(data_time)) ## the only dimensions of the data now are the number of time blocks (subintegrations) and phase bins"
      ],
      "execution_count": null,
      "outputs": []
    },
    {
      "cell_type": "markdown",
      "metadata": {
        "id": "jydE-536HZN2"
      },
      "source": [
        "## Step 18: Watch the timeseries as a movie to see how the pulsar behaves with time\n"
      ]
    },
    {
      "cell_type": "markdown",
      "metadata": {
        "id": "VQzn-9mzpOTn"
      },
      "source": [
        "This next cell just sets up the plotting canvas"
      ]
    },
    {
      "cell_type": "code",
      "metadata": {
        "id": "N7ZZQoLArPlx"
      },
      "source": [
        "%%capture\n",
        "# Set up the figure canvas for the movie\n",
        "fig,ax = plt.subplots(1, figsize=(12,5))\n",
        "title = ax.text(0.45,0.85, \"\", bbox={'facecolor':'w', 'alpha':0.5, 'pad':5},\n",
        "                transform=ax.transAxes, ha=\"center\")\n",
        "ph, = ax.plot(data_time[130])\n",
        "txt = ax.text(100, 0.004, \"Max peak value\",color='r')\n",
        "#ax.axis('off')\n",
        "ax.set_ylim(-0.001, 0.01)"
      ],
      "execution_count": null,
      "outputs": []
    },
    {
      "cell_type": "markdown",
      "metadata": {
        "id": "gWx08JSwrZyD"
      },
      "source": [
        "**Action 21:** Run the animation. Note that it will take some time to load **(~ 3min)**"
      ]
    },
    {
      "cell_type": "code",
      "metadata": {
        "id": "vA0nXBQ47v7u"
      },
      "source": [
        "# function for drawing each frame\n",
        "def singleframe(i):\n",
        "  ph.set_ydata(data_time[i])\n",
        "  ph.set_xdata(np.linspace(0,1024,1024))\n",
        "\n",
        "  title.set_text(u\" Time block = {}, Max. value = {:.4f}\".format(i, np.max(data_time[i])))\n",
        "  xx = np.linspace(0,1024,len(data_time))\n",
        "  max_points = [np.max(data_time[i]),np.max(data_time[i-1])] \n",
        "  maxtrend = ax.plot([xx[i], xx[i-1]], max_points, 'r-o', markersize=4,alpha=0.6)                                    \n",
        "  return ph, title, maxtrend\n",
        "  \n",
        "# create the animation\n",
        "ani=animation.FuncAnimation(fig, singleframe, range(5, len(data_time)))\n",
        "ani"
      ],
      "execution_count": null,
      "outputs": []
    },
    {
      "cell_type": "markdown",
      "metadata": {
        "id": "gfsDgrLo7GtS"
      },
      "source": [
        "**Q11:** Do you see any changes in the pulse profile with time?\n",
        "\n",
        "**Q12:** If so, when do the changes appear? \n",
        "\n",
        "**Q13:** And how long do they last?"
      ]
    },
    {
      "cell_type": "markdown",
      "metadata": {
        "id": "RySGJsPf9EYf"
      },
      "source": [
        "**Action**: Let's also make a 2D plot of how the pulse shape changes.\n",
        "We'll use the observing time to change the axis from time blocks (subintegrations) to observing time (seconds)"
      ]
    },
    {
      "cell_type": "code",
      "metadata": {
        "id": "Hicq77K69ToA"
      },
      "source": [
        "##The full observing time of the data is given by, \n",
        "obstime = data_object2.integration_length()\n",
        "print(f'The full observing time is {obstime:.2f} seconds')\n",
        "obs_start = 0\n",
        "obs_end = obstime"
      ],
      "execution_count": null,
      "outputs": []
    },
    {
      "cell_type": "code",
      "metadata": {
        "id": "9crVN8BEY1Jx"
      },
      "source": [
        "plt.figure(figsize=(8,8))\n",
        "plt.imshow(data_time,extent=(0,1,obs_start, obs_end), aspect='auto', cmap='magma', origin='lower')\n",
        "plt.ylabel(\"Time (sec)\")\n",
        "plt.xlabel(\"Pulse phase\")\n",
        "plt.grid()"
      ],
      "execution_count": null,
      "outputs": []
    },
    {
      "cell_type": "markdown",
      "metadata": {
        "id": "e1BAlEOogO95"
      },
      "source": [
        "**Q14:** What do you see when plotting the pulse intensity as a function of time in this 2D plot? Does it agree with what you observed in the animation?\n",
        "\n",
        "**Action** Estimate the duration for which the pulsar appears to dim (in seconds) using either the animation or the 2D plot output"
      ]
    },
    {
      "cell_type": "code",
      "metadata": {
        "id": "SMkYloSevDW7"
      },
      "source": [
        "dimming_duration = ## in seconds"
      ],
      "execution_count": null,
      "outputs": []
    },
    {
      "cell_type": "markdown",
      "metadata": {
        "id": "nI89nSKUXs_N"
      },
      "source": [
        "## &star; &star; &star; You've got to know more about this odd dimming of the pulsar! &star; &star;\n",
        "\n",
        "### You know that MeerKAT can record at even higher time rates than the data you have. \n",
        "\n",
        "### Time to ring the operator on duty. \n",
        "\n",
        "\n",
        "# &#9742; Ring ring ...\n",
        "\n",
        "### If she can observe pulsar J0737-0737 for you at a higher recording rate, than maybe you can learn more about what is going on in the gap ...  almost like Jocelyn Bell-Burnell running her penchart recorder at higher speeds :)\n",
        "\n",
        "### The operator on duty picks up: you provide her with the pulsar name and your dispersion measure to set the coherent dedispersion back-end. \n",
        "\n",
        "\n"
      ]
    },
    {
      "cell_type": "markdown",
      "metadata": {
        "id": "LRph1FAeY4NI"
      },
      "source": [
        "## Step 19: The **high time resolution** data is here! \n",
        "\n",
        "Now that you already know most of the process it will be easily to check out. \n",
        "Load in the data and rerun some of the commands you used in Step 4 to investigate the data dimensions"
      ]
    },
    {
      "cell_type": "markdown",
      "metadata": {
        "id": "8NxcwR4yCDrf"
      },
      "source": [
        "Time to download it using *wget* as before"
      ]
    },
    {
      "cell_type": "code",
      "metadata": {
        "id": "2EaDPX95CBby"
      },
      "source": [
        "!wget ftp://elwood.ru.ac.za/pub/mgeyer/ARIWS/meerkat2_highres.ar -P /content/MeerKAT_data"
      ],
      "execution_count": null,
      "outputs": []
    },
    {
      "cell_type": "code",
      "metadata": {
        "id": "kXS0wG0CZFxv"
      },
      "source": [
        "datafile3 = 'meerkat2_highres.ar'\n",
        "\n",
        "path_to_data = os.path.join(mydata_dir, datafile3)\n",
        "print(path_to_data)\n",
        "data_object3 = psrchive.Archive_load(path_to_data)\n",
        "\n",
        "data_object3.remove_baseline()\n",
        "\n",
        "## You rerun some of the commands you used in Step 4, to remind yourself of the data dimensions\n",
        "print(f'And has the following characteristics:')\n",
        "print(f'Number of frequency channels\\t\\t\\t {data_object3.get_nchan()}')\n",
        "print(f'Number of subintegrations (time blocks)\\t\\t {data_object3.get_nsubint()}')\n",
        "print(f'Duration of the observation\\t\\t\\t {data_object3.integration_length():.2f} seconds')\n",
        "\n",
        "time_per_subint = data_object3.integration_length()/data_object3.get_nsubint()\n",
        "print(f'Time of each subintegration \\t\\t\\t {time_per_subint:.2f} seconds')"
      ],
      "execution_count": null,
      "outputs": []
    },
    {
      "cell_type": "markdown",
      "metadata": {
        "id": "3guhM6lJZ1G1"
      },
      "source": [
        "**Q14:** How does this time per block or subintegration compare to the lower time resolution data you had previously?"
      ]
    },
    {
      "cell_type": "code",
      "metadata": {
        "id": "CMPyXKpYoMWk"
      },
      "source": [
        "## answer here"
      ],
      "execution_count": null,
      "outputs": []
    },
    {
      "cell_type": "code",
      "metadata": {
        "id": "cNl_X5C1aJ0t"
      },
      "source": [
        "data3 = data_object3.get_data().reshape(data_object3.get_nsubint(),data_object3.get_nbin())"
      ],
      "execution_count": null,
      "outputs": []
    },
    {
      "cell_type": "code",
      "metadata": {
        "id": "sPlGjsix9sn_"
      },
      "source": [
        "## The full observing time of these data are given by, \n",
        "obstime_highresdata = data_object3.integration_length()\n",
        "print(f'The full observing time is {obstime_highresdata:.2f} seconds. So a much shorter observation than the previous one. Just zooming in on that part where the pulsar light dims.')"
      ],
      "execution_count": null,
      "outputs": []
    },
    {
      "cell_type": "markdown",
      "metadata": {
        "id": "iBS2SFJysuOq"
      },
      "source": [
        "## Step 20: Plot the **high time resolution** data\n",
        "\n",
        "Investigate the high time resolution data, again using a 2D plot of pulse period or pulse phase on the x-axis and observing time on the y-axis."
      ]
    },
    {
      "cell_type": "code",
      "metadata": {
        "id": "kuEGSqVTaBR_"
      },
      "source": [
        "obs_start= 0 ## the observation starting time in seconds\n",
        "obs_end= obstime_highresdata ## and the observation ending time in seconds (similar to the second plot of Step 18) \n",
        "\n",
        "plt.figure(figsize=(8,8))\n",
        "plt.imshow(data3,aspect='auto', extent=(0,1, obs_start,  obs_end), cmap=my_cmap, origin='lower')\n",
        "plt.ylabel(\"Observing time (sec)\")\n",
        "plt.xlabel(\"Pulse phase\")"
      ],
      "execution_count": null,
      "outputs": []
    },
    {
      "cell_type": "markdown",
      "metadata": {
        "id": "id2qAoDcy9RG"
      },
      "source": [
        "## &#129427;  ...     Zebra-stripes in the gap where the pulsar light dims!\n",
        "## What could that mean?\n",
        "### By plotting the data added across the pulse, you can see the ossicilations more clearly. \n"
      ]
    },
    {
      "cell_type": "code",
      "metadata": {
        "id": "I_SGTK9weKiV"
      },
      "source": [
        "fig, ax = plt.subplots(2,1,figsize=(24,8))\n",
        "fig.subplots_adjust(hspace=0.5)\n",
        "\n",
        "ax[0].set_title(\"The cumulative change in pulse intensity as a function of observing time\")\n",
        "ax[0].plot(np.linspace(0,obstime_highresdata,data_object3.get_nsubint()),np.sum(data3[:,320:420], axis=1))\n",
        "ax[0].set_xlabel(\"Observing time (seconds)\")\n",
        "\n",
        "ax[1].set_title(\"Zoom in to see the spacings between the fluctuations\")\n",
        "ax[1].plot(np.linspace(0,obstime_highresdata,data_object3.get_nsubint()),np.sum(data3[:,320:420], axis=1))\n",
        "ax[1].set_xlim(40,70)\n",
        "ax[1].set_xlabel(\"Observing time (seconds)\")\n",
        "\n",
        "\n",
        "# Here we add more detailed gridlines to help you see if it is straight!\n",
        "ax[1].xaxis.set_minor_locator(ticker.MultipleLocator(0.5))\n",
        "ax[1].xaxis.set_major_locator(ticker.MultipleLocator(2))\n",
        "\n",
        "ax[1].grid(which='major', axis='both', alpha=0.6,color='k', ls='solid')\n",
        "ax[1].grid(which='minor', axis='x', alpha=0.4,color='k', ls='dashed')"
      ],
      "execution_count": null,
      "outputs": []
    },
    {
      "cell_type": "markdown",
      "metadata": {
        "id": "0B0vNAjzPX81"
      },
      "source": [
        "## Step 21: The period of these new peaks\n",
        "\n",
        "### The zoomed in plot you've made above shows how during that dimming episode of the pulsar, the intensity of the observed pulsar light is fluctuation.\n",
        "\n",
        "**Action:** Compute the time between peaks in the osscillations during the dimming of the pulsar"
      ]
    },
    {
      "cell_type": "code",
      "metadata": {
        "id": "-55qfz5lLmk_"
      },
      "source": [
        "peak1 = ## choose a time at which one peak occurs\n",
        "peak2 = ## and when the next peak occurs\n",
        "time_between_peaks = ## use peak1 and peak2 to compute the time between peaks in seconds"
      ],
      "execution_count": null,
      "outputs": []
    },
    {
      "cell_type": "markdown",
      "metadata": {
        "id": "0wn-d3OkWb1y"
      },
      "source": [
        "##&#128269; $\\quad$ The status of your detective notes, "
      ]
    },
    {
      "cell_type": "code",
      "metadata": {
        "id": "v47iW5tOWpNL"
      },
      "source": [
        "print(f'During a MeerKAT observation of {val_band} data of PSR {val_pulsarname},\\n')\n",
        "print(f'which has a pulse period of {val_pulseperiod:.2f} ms, \\n')\n",
        "print(f'the pulsar light appeared to dim for about {dimming_duration} seconds. \\n')\n",
        "print(f'You requested higher time resolution data to see what exactly is going on during that dimming episode ... \\n')\n",
        "print(f'And found another periodic signal within the gap with a period of around {time_between_peaks} seconds! \\n')\n",
        "\n",
        "print('What a crazy system!\\n')\n",
        "print('What could be going on?')"
      ],
      "execution_count": null,
      "outputs": []
    },
    {
      "cell_type": "markdown",
      "metadata": {
        "id": "9XyfwQn6SibP"
      },
      "source": [
        "## Step 22: Time to play hangman to help you understand!"
      ]
    },
    {
      "cell_type": "code",
      "metadata": {
        "id": "PdcKru7-Lk-H"
      },
      "source": [
        "hangman()"
      ],
      "execution_count": null,
      "outputs": []
    },
    {
      "cell_type": "code",
      "metadata": {
        "id": "nDsHCNYMyJgp"
      },
      "source": [
        ""
      ],
      "execution_count": null,
      "outputs": []
    }
  ]
}